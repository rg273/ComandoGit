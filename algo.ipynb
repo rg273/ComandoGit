{
 "cells": [
  {
   "cell_type": "code",
   "execution_count": 1,
   "metadata": {},
   "outputs": [
    {
     "name": "stdout",
     "output_type": "stream",
     "text": [
      "hello\n"
     ]
    }
   ],
   "source": [
    "hola = \"hello\"\n",
    "print(hola)"
   ]
  },
  {
   "cell_type": "code",
   "execution_count": 2,
   "metadata": {},
   "outputs": [],
   "source": [
    "DATA = [\n",
    "    {\n",
    "        'name': 'Facundo',\n",
    "        'age': 72,\n",
    "        'organization': 'Platzi',\n",
    "        'position': 'Technical Coach',\n",
    "        'language': 'python',\n",
    "    },\n",
    "    {\n",
    "        'name': 'Luisana',\n",
    "        'age': 33,\n",
    "        'organization': 'Globant',\n",
    "        'position': 'UX Designer',\n",
    "        'language': 'javascript',\n",
    "    },\n",
    "    {\n",
    "        'name': 'Héctor',\n",
    "        'age': 19,\n",
    "        'organization': 'Platzi',\n",
    "        'position': 'Associate',\n",
    "        'language': 'ruby',\n",
    "    },\n",
    "    {\n",
    "        'name': 'Gabriel',\n",
    "        'age': 20,\n",
    "        'organization': 'Platzi',\n",
    "        'position': 'Associate',\n",
    "        'language': 'javascript',\n",
    "    },\n",
    "    {\n",
    "        'name': 'Isabella',\n",
    "        'age': 30,\n",
    "        'organization': 'Platzi',\n",
    "        'position': 'QA Manager',\n",
    "        'language': 'java',\n",
    "    },\n",
    "    {\n",
    "        'name': 'Karo',\n",
    "        'age': 23,\n",
    "        'organization': 'Everis',\n",
    "        'position': 'Backend Developer',\n",
    "        'language': 'python',\n",
    "    },\n",
    "    {\n",
    "        'name': 'Ariel',\n",
    "        'age': 32,\n",
    "        'organization': 'Rappi',\n",
    "        'position': 'Support',\n",
    "        'language': '',\n",
    "    },\n",
    "    {\n",
    "        'name': 'Juan',\n",
    "        'age': 17,\n",
    "        'organization': '',\n",
    "        'position': 'Student',\n",
    "        'language': 'go',\n",
    "    },\n",
    "    {\n",
    "        'name': 'Pablo',\n",
    "        'age': 32,\n",
    "        'organization': 'Master',\n",
    "        'position': 'Human Resources Manager',\n",
    "        'language': 'python',\n",
    "    },\n",
    "    {\n",
    "        'name': 'Lorena',\n",
    "        'age': 56,\n",
    "        'organization': 'Python Organization',\n",
    "        'position': 'Language Maker',\n",
    "        'language': 'python',\n",
    "    },\n",
    "]"
   ]
  },
  {
   "cell_type": "code",
   "execution_count": 6,
   "metadata": {},
   "outputs": [
    {
     "name": "stdout",
     "output_type": "stream",
     "text": [
      "['Facundo', 'Karo', 'Pablo', 'Lorena']\n"
     ]
    }
   ],
   "source": [
    "list_compresions_python = [worker[\"name\"] for worker in DATA if worker[\"language\"] == \"python\"]\n",
    "print(list_compresions_python)\n"
   ]
  },
  {
   "cell_type": "code",
   "execution_count": 5,
   "metadata": {},
   "outputs": [
    {
     "name": "stdout",
     "output_type": "stream",
     "text": [
      "['Facundo', 'Karo', 'Pablo', 'Lorena']\n"
     ]
    }
   ],
   "source": [
    "#the same but whit filter\n",
    "let = list(filter(lambda x:x[\"language\"]== \"python\" ,DATA))\n",
    "let2 = list(map(lambda x: x[\"name\"] ,let))\n",
    "print(let2)"
   ]
  },
  {
   "cell_type": "code",
   "execution_count": 7,
   "metadata": {},
   "outputs": [
    {
     "name": "stdout",
     "output_type": "stream",
     "text": [
      "['Facundo', 'Héctor', 'Gabriel', 'Isabella'] exercise 1 whit list compresions\n"
     ]
    }
   ],
   "source": [
    "#exercise 2, the same as the previouse one\n",
    "list_compresions_organization = [i[\"name\"] for i in DATA if i[\"organization\"] == \"Platzi\"]\n",
    "print(list_compresions_organization,\"exercise 1 whit list compresions\")"
   ]
  },
  {
   "cell_type": "code",
   "execution_count": 11,
   "metadata": {},
   "outputs": [
    {
     "name": "stdout",
     "output_type": "stream",
     "text": [
      "[{'name': 'Facundo', 'age': 72, 'organization': 'Platzi', 'position': 'Technical Coach', 'language': 'python'}, {'name': 'Héctor', 'age': 19, 'organization': 'Platzi', 'position': 'Associate', 'language': 'ruby'}, {'name': 'Gabriel', 'age': 20, 'organization': 'Platzi', 'position': 'Associate', 'language': 'javascript'}, {'name': 'Isabella', 'age': 30, 'organization': 'Platzi', 'position': 'QA Manager', 'language': 'java'}] //////////////////\n",
      "['Facundo', 'Héctor', 'Gabriel', 'Isabella'] exercisee 2\n"
     ]
    }
   ],
   "source": [
    "#exercise 2, with filter and map\n",
    "list_organization_filter = list(filter(lambda x: x[\"organization\"] == \"Platzi\",DATA))\n",
    "print(list_organization_filter,\"//////////////////\")\n",
    "list_organization_map = list(map(lambda i: i[\"name\"],list_organization_filter))\n",
    "print(list_organization_map,\"exercisee 2\")"
   ]
  },
  {
   "cell_type": "code",
   "execution_count": 10,
   "metadata": {},
   "outputs": [
    {
     "name": "stdout",
     "output_type": "stream",
     "text": [
      "['Facundo', 'Héctor', 'Gabriel', 'Isabella'] WORKS?\n"
     ]
    }
   ],
   "source": [
    "#COPY MAP()\n",
    "list_organization_whitout_map = []\n",
    "for i in list_organization_filter:\n",
    "    for j,k in i.items():\n",
    "        if j == \"name\":\n",
    "            list_organization_whitout_map.append(k)\n",
    "\n",
    "print(list_organization_whitout_map,\"WORKS?\")"
   ]
  }
 ],
 "metadata": {
  "interpreter": {
   "hash": "7a490500e1bbf7bd9a77e1737b9305c61202eea2f045625ac33a3fb0eb025efc"
  },
  "kernelspec": {
   "display_name": "Python 3.10.4 64-bit",
   "language": "python",
   "name": "python3"
  },
  "language_info": {
   "codemirror_mode": {
    "name": "ipython",
    "version": 3
   },
   "file_extension": ".py",
   "mimetype": "text/x-python",
   "name": "python",
   "nbconvert_exporter": "python",
   "pygments_lexer": "ipython3",
   "version": "3.10.4"
  },
  "orig_nbformat": 4
 },
 "nbformat": 4,
 "nbformat_minor": 2
}
